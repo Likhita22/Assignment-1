{
 "cells": [
  {
   "cell_type": "markdown",
   "metadata": {},
   "source": [
    "### QUESTION 1"
   ]
  },
  {
   "cell_type": "code",
   "execution_count": 4,
   "metadata": {},
   "outputs": [
    {
     "name": "stdout",
     "output_type": "stream",
     "text": [
      "* \r\n",
      "* * \r\n",
      "* * * \r\n",
      "* * * * \r\n",
      "* * * * * \r\n"
     ]
    }
   ],
   "source": [
    "rows = 5\n",
    "for i in range (0, rows):\n",
    "    for j in range (0,i + 1):\n",
    "        print(\"*\", end =' ')\n",
    "    print(\"\\r\")"
   ]
  },
  {
   "cell_type": "markdown",
   "metadata": {},
   "source": [
    "### QUESTION 2"
   ]
  },
  {
   "cell_type": "code",
   "execution_count": 6,
   "metadata": {},
   "outputs": [
    {
     "name": "stdout",
     "output_type": "stream",
     "text": [
      "enter the number for multiplication table7\n",
      "7 x 1 = 7\n",
      "7 x 2 = 7\n",
      "7 x 3 = 7\n",
      "7 x 4 = 7\n",
      "7 x 5 = 7\n",
      "7 x 6 = 7\n",
      "7 x 7 = 7\n",
      "7 x 8 = 7\n",
      "7 x 9 = 7\n",
      "7 x 10 = 7\n"
     ]
    }
   ],
   "source": [
    "num = int(input(\"enter the number for multiplication table\"))\n",
    "for i in range(1,11):\n",
    "    print(num , 'x' , i , '=' , num*1 )"
   ]
  },
  {
   "cell_type": "markdown",
   "metadata": {},
   "source": [
    "### QUESTION 3"
   ]
  },
  {
   "cell_type": "code",
   "execution_count": 9,
   "metadata": {},
   "outputs": [
    {
     "name": "stdout",
     "output_type": "stream",
     "text": [
      "a: 4\n",
      "b: 2\n",
      "c: 4\n",
      "No roots,discriminant < 0.\n"
     ]
    }
   ],
   "source": [
    "from math import sqrt\n",
    "a = float(input(\"a: \"))\n",
    "b = float(input(\"b: \"))\n",
    "c = float(input(\"c: \"))\n",
    "r = b**2 - 4*a*c\n",
    "if r > 0:\n",
    "    num_roots = 2\n",
    "    x1 = (((-b) + sqrt(r))/(2*a))\n",
    "    x2 = (((-b) + sqrt(r))/(2*a))\n",
    "    print(\"there are 2 roots: %f\" % (x1 , x2))\n",
    "elif r == 0:\n",
    "    num_roots = 1\n",
    "    x = (-b)/ 2*a\n",
    "    print(\"there is one root\", x)\n",
    "else:\n",
    "    num_roots = 0\n",
    "    print(\"No roots,discriminant < 0.\")"
   ]
  },
  {
   "cell_type": "markdown",
   "metadata": {},
   "source": [
    "### QUESTION 4"
   ]
  },
  {
   "cell_type": "code",
   "execution_count": 2,
   "metadata": {},
   "outputs": [
    {
     "name": "stdout",
     "output_type": "stream",
     "text": [
      "enter the decimail to be converted: 6\n",
      "110\n"
     ]
    }
   ],
   "source": [
    "def convertToBinary(n):\n",
    "  if n > 1:\n",
    "        convertToBinary(n//2)\n",
    "  print(n%2,end = '')\n",
    "dec = int(input(\"enter the decimail to be converted: \"))\n",
    "convertToBinary(dec)\n",
    "print()"
   ]
  },
  {
   "cell_type": "markdown",
   "metadata": {},
   "source": [
    "### QUESTION 5"
   ]
  },
  {
   "cell_type": "code",
   "execution_count": 3,
   "metadata": {},
   "outputs": [
    {
     "name": "stdout",
     "output_type": "stream",
     "text": [
      "Enter the terms7\n",
      "0 1 1 2 3 5 8 "
     ]
    }
   ],
   "source": [
    "a = int(input(\"Enter the terms\"))\n",
    "f=0\n",
    "s=1\n",
    "if a<=0:\n",
    "    print(\"the requested series is\", f)\n",
    "else:\n",
    "    print(f,s,end=\" \")\n",
    "    for x in range(2,a):\n",
    "        next=f+s\n",
    "        print(next,end=\" \")\n",
    "        f=s\n",
    "        s=next"
   ]
  },
  {
   "cell_type": "code",
   "execution_count": null,
   "metadata": {},
   "outputs": [],
   "source": []
  }
 ],
 "metadata": {
  "kernelspec": {
   "display_name": "Python 3",
   "language": "python",
   "name": "python3"
  },
  "language_info": {
   "codemirror_mode": {
    "name": "ipython",
    "version": 3
   },
   "file_extension": ".py",
   "mimetype": "text/x-python",
   "name": "python",
   "nbconvert_exporter": "python",
   "pygments_lexer": "ipython3",
   "version": "3.7.6"
  }
 },
 "nbformat": 4,
 "nbformat_minor": 4
}
